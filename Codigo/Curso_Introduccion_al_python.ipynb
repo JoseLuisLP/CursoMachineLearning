{
  "nbformat": 4,
  "nbformat_minor": 0,
  "metadata": {
    "kernelspec": {
      "display_name": "Python 3",
      "language": "python",
      "name": "python3"
    },
    "language_info": {
      "codemirror_mode": {
        "name": "ipython",
        "version": 3
      },
      "file_extension": ".py",
      "mimetype": "text/x-python",
      "name": "python",
      "nbconvert_exporter": "python",
      "pygments_lexer": "ipython3",
      "version": "3.8.3"
    },
    "colab": {
      "name": "Curso_Introduccion_al_python.ipynb",
      "provenance": [],
      "include_colab_link": true
    }
  },
  "cells": [
    {
      "cell_type": "markdown",
      "metadata": {
        "id": "view-in-github",
        "colab_type": "text"
      },
      "source": [
        "<a href=\"https://colab.research.google.com/github/calderonf/CursoMachineLearning/blob/master/Codigo/Curso_Introduccion_al_python.ipynb\" target=\"_parent\"><img src=\"https://colab.research.google.com/assets/colab-badge.svg\" alt=\"Open In Colab\"/></a>"
      ]
    },
    {
      "cell_type": "markdown",
      "metadata": {
        "id": "-vQSZU7Kfb8f"
      },
      "source": [
        "# Introducción al python"
      ]
    },
    {
      "cell_type": "markdown",
      "metadata": {
        "id": "KA71QoBQfb8l"
      },
      "source": [
        "## Hola mundo"
      ]
    },
    {
      "cell_type": "code",
      "metadata": {
        "id": "Am5okGnXfb8m",
        "outputId": "ed0a924b-7575-4963-e2ad-f0fee795be39"
      },
      "source": [
        "print(\"Hello world\")\n",
        "print(\"Hello\",\"World\")#note la falta de espacio\n",
        "print(\"Hello\"+\" World\")"
      ],
      "execution_count": null,
      "outputs": [
        {
          "output_type": "stream",
          "text": [
            "Hello world\n",
            "Hello World\n",
            "Hello World\n"
          ],
          "name": "stdout"
        }
      ]
    },
    {
      "cell_type": "markdown",
      "metadata": {
        "id": "ZoX5m6U_fb8o"
      },
      "source": [
        "## Condicionales"
      ]
    },
    {
      "cell_type": "code",
      "metadata": {
        "id": "2KqMOr-2fb8o",
        "outputId": "a15fba27-dfbb-4fa3-a217-4610b2a5b7a8"
      },
      "source": [
        "#Forma 1\n",
        "if 1+1==2:\n",
        "    print(\"foo\")\n",
        "    print(\"bar\")\n",
        "    x=42\n",
        "#Forma 2\n",
        "if 1+1==2:\n",
        "    print(\"foo\");print(\"foo\");x=42\n",
        "#Forma 3\n",
        "if 1+1==2:print(\"foo\");print(\"bar\");x=42"
      ],
      "execution_count": null,
      "outputs": [
        {
          "output_type": "stream",
          "text": [
            "foo\n",
            "bar\n",
            "foo\n",
            "foo\n",
            "foo\n",
            "bar\n"
          ],
          "name": "stdout"
        }
      ]
    },
    {
      "cell_type": "code",
      "metadata": {
        "id": "jezSzihbfb8o",
        "outputId": "e2228dbb-774d-422e-df90-3ef1b829d466"
      },
      "source": [
        "name = \"Daniel\" # asignación de un valor a la variable  \n",
        "if name == \"Daniel\":\n",
        "\tprint (\"yeiii Daniel \") \n",
        "\tprint (u'¿Qué tal estás?')\n",
        "else:\n",
        "\tprint (u'¿Quién eres?')\n",
        "\tprint (u'¡No eres Daniel!')"
      ],
      "execution_count": null,
      "outputs": [
        {
          "output_type": "stream",
          "text": [
            "yeiii Daniel \n",
            "¿Qué tal estás?\n"
          ],
          "name": "stdout"
        }
      ]
    },
    {
      "cell_type": "markdown",
      "metadata": {
        "id": "OcwmZqLWfb8p"
      },
      "source": [
        "## Tipos de datos numericos"
      ]
    },
    {
      "cell_type": "code",
      "metadata": {
        "id": "xQziN7hrfb8p",
        "outputId": "8f991fc9-1ca7-4ec5-bbed-54dacb1454b7"
      },
      "source": [
        "x=4\n",
        "print(int(x))\n",
        "#long(x)#solo en versiones antiguas\n",
        "#long(x)#solo en versiones antiguas\n",
        "print(float(x))\n",
        "c=complex (4, .2) \n",
        "print(c)\n",
        "d=c.real+c.imag "
      ],
      "execution_count": null,
      "outputs": [
        {
          "output_type": "stream",
          "text": [
            "4\n",
            "4.0\n",
            "(4+0.2j)\n"
          ],
          "name": "stdout"
        }
      ]
    },
    {
      "cell_type": "markdown",
      "metadata": {
        "id": "o4TslOA7fb8q"
      },
      "source": [
        "Ejercicio:\n",
        "usar el comando dir, para listar que metodos hay disponibles en el tipo de dato complejo ayuda:dir(c), preguntar si no tiene claro al final de la presentación por que unos tienen el doble __ en el nombre por ejemplo usar c.__abs__() \n",
        "    "
      ]
    },
    {
      "cell_type": "code",
      "metadata": {
        "id": "kcXY8fKTfb8q"
      },
      "source": [
        "#dir(c)\n",
        "#print(c.__abs__())\n",
        "#print(c.conjugate())"
      ],
      "execution_count": null,
      "outputs": []
    },
    {
      "cell_type": "markdown",
      "metadata": {
        "id": "b1z7f42Ufb8q"
      },
      "source": [
        "## Tipos de datos cadenas de caracteres"
      ]
    },
    {
      "cell_type": "code",
      "metadata": {
        "id": "05l7qvNQfb8r",
        "outputId": "b3f0464c-e40a-4fc4-db76-28f1722724c6"
      },
      "source": [
        "print(\"yes\" \"no\")\n",
        "print('\\n')#note el doble enter\n",
        "print(\"yes\" \"no\")\n",
        "print (r\"hola mundo\\n no  tengo en cuenta el fin de linea\\n\")# raw string\n",
        "print(\"\\\\[foo\\\\]\")\n",
        "print(r'\\[foo\\]')"
      ],
      "execution_count": null,
      "outputs": [
        {
          "output_type": "stream",
          "text": [
            "yesno\n",
            "\n",
            "\n",
            "yesno\n",
            "hola mundo\\n no  tengo en cuenta el fin de linea\\n\n",
            "\\[foo\\]\n",
            "\\[foo\\]\n"
          ],
          "name": "stdout"
        }
      ]
    },
    {
      "cell_type": "code",
      "metadata": {
        "id": "18EOQ2XBfb8r",
        "outputId": "c718c895-5969-4a15-cd9b-07c4683a3bf6"
      },
      "source": [
        "print(len('Con un palo y 5 ladrillos se pueden hacer mil cosas'))"
      ],
      "execution_count": null,
      "outputs": [
        {
          "output_type": "stream",
          "text": [
            "51\n"
          ],
          "name": "stdout"
        }
      ]
    },
    {
      "cell_type": "code",
      "metadata": {
        "id": "qA0HtomGfb8r",
        "outputId": "23c765be-b43e-47e3-8e76-bfc6c6df42bc"
      },
      "source": [
        "\"Con un palo y 5 ladrillos se pueden hacer mil cosas\".upper()"
      ],
      "execution_count": null,
      "outputs": [
        {
          "output_type": "execute_result",
          "data": {
            "text/plain": [
              "'CON UN PALO Y 5 LADRILLOS SE PUEDEN HACER MIL COSAS'"
            ]
          },
          "metadata": {
            "tags": []
          },
          "execution_count": 25
        }
      ]
    },
    {
      "cell_type": "code",
      "metadata": {
        "id": "VjmqEDWsfb8s",
        "outputId": "dd6f3dfb-6c67-48a2-eb90-0458c39b5891"
      },
      "source": [
        "\"Con un palo y 5 ladrillos se pueden hacer mil cosas\".find(\"palo\")# el índice no inicia en 1 como en Matlab sino en 0 como en C\n"
      ],
      "execution_count": null,
      "outputs": [
        {
          "output_type": "execute_result",
          "data": {
            "text/plain": [
              "7"
            ]
          },
          "metadata": {
            "tags": []
          },
          "execution_count": 26
        }
      ]
    },
    {
      "cell_type": "code",
      "metadata": {
        "id": "s5KLScN2fb8s",
        "outputId": "fb23caec-d229-455e-ad02-362af7094c76"
      },
      "source": [
        "\"Con un palo y 5 ladrillos se pueden hacer mil cosas\".find('Palo') "
      ],
      "execution_count": null,
      "outputs": [
        {
          "output_type": "execute_result",
          "data": {
            "text/plain": [
              "-1"
            ]
          },
          "metadata": {
            "tags": []
          },
          "execution_count": 27
        }
      ]
    },
    {
      "cell_type": "code",
      "metadata": {
        "id": "QoXbWTsPfb8s",
        "outputId": "45dceb32-7c81-4800-e991-3ccb6c67cbdb"
      },
      "source": [
        "'Con un palo y 5 ladrillos se pueden hacer mil cosas '.replace('5', 'cinco')#.replace('un','1')"
      ],
      "execution_count": null,
      "outputs": [
        {
          "output_type": "execute_result",
          "data": {
            "text/plain": [
              "'Con un palo y cinco ladrillos se pueden hacer mil cosas '"
            ]
          },
          "metadata": {
            "tags": []
          },
          "execution_count": 28
        }
      ]
    },
    {
      "cell_type": "code",
      "metadata": {
        "id": "HOor8-Q-fb8t",
        "outputId": "9806314d-5ce3-430c-a4e5-cc016d968c79"
      },
      "source": [
        "depto = 'Vaupes' \n",
        "\"La capital de %s es %s\" % (depto, \"Mitu\")"
      ],
      "execution_count": null,
      "outputs": [
        {
          "output_type": "execute_result",
          "data": {
            "text/plain": [
              "'La capital de Vaupes es Mitu'"
            ]
          },
          "metadata": {
            "tags": []
          },
          "execution_count": 29
        }
      ]
    },
    {
      "cell_type": "markdown",
      "metadata": {
        "id": "ErR_s7omfb8t"
      },
      "source": [
        "## Tipos de datos Listas"
      ]
    },
    {
      "cell_type": "code",
      "metadata": {
        "id": "mH9hKX_2fb8t",
        "outputId": "cd80c774-ed99-42df-e180-38e03567f576"
      },
      "source": [
        "meses = [\"Enero\", \"Febrero\"] \n",
        "print(type(meses))\n",
        "print(meses[0]) \n",
        "meses.append(\"Marzo\")\n",
        "print(meses) \n",
        "meses.append(\"Abril\")\n",
        "print(meses) \n",
        "meses.append(\"Mayo\")\n",
        "print(meses) \n",
        "meses.append(\"Junio\")\n",
        "print (meses[2:4])#probar con (meses[2:-1]) y con (meses[1:len(meses))"
      ],
      "execution_count": null,
      "outputs": [
        {
          "output_type": "stream",
          "text": [
            "<class 'list'>\n",
            "Enero\n",
            "['Enero', 'Febrero', 'Marzo']\n",
            "['Enero', 'Febrero', 'Marzo', 'Abril']\n",
            "['Enero', 'Febrero', 'Marzo', 'Abril', 'Mayo']\n",
            "['Marzo', 'Abril']\n"
          ],
          "name": "stdout"
        }
      ]
    },
    {
      "cell_type": "code",
      "metadata": {
        "id": "5PNyaOdgfb8t",
        "outputId": "0cb567dd-8e1a-4f8c-cfcf-78b687188c03"
      },
      "source": [
        "print(meses+meses)"
      ],
      "execution_count": null,
      "outputs": [
        {
          "output_type": "stream",
          "text": [
            "['Enero', 'Febrero', 'Marzo', 'Abril', 'Mayo', 'Junio', 'Enero', 'Febrero', 'Marzo', 'Abril', 'Mayo', 'Junio']\n"
          ],
          "name": "stdout"
        }
      ]
    },
    {
      "cell_type": "code",
      "metadata": {
        "id": "FiN9q2uefb8u",
        "outputId": "fa8f4150-a97a-4914-d4d4-eb2c125d18bd"
      },
      "source": [
        "meses.append(1)\n",
        "print(meses)"
      ],
      "execution_count": null,
      "outputs": [
        {
          "output_type": "stream",
          "text": [
            "['Enero', 'Febrero', 'Marzo', 'Abril', 'Mayo', 'Junio', 1]\n"
          ],
          "name": "stdout"
        }
      ]
    },
    {
      "cell_type": "code",
      "metadata": {
        "id": "g3juziN7fb8u",
        "outputId": "50f569e4-3c0f-47d9-c7d3-37b39bcdf8a2"
      },
      "source": [
        "items = [4, 6]\n",
        "print(items)\n",
        "items.insert(0, -1) \n",
        "print(items)\n",
        "items.insert(1, -2) \n",
        "print(items)"
      ],
      "execution_count": null,
      "outputs": [
        {
          "output_type": "stream",
          "text": [
            "[4, 6]\n",
            "[-1, 4, 6]\n",
            "[-1, -2, 4, 6]\n"
          ],
          "name": "stdout"
        }
      ]
    },
    {
      "cell_type": "code",
      "metadata": {
        "id": "vCV4oX51fb8v",
        "outputId": "5ecb4fac-2103-4701-9d96-857e8e66c650"
      },
      "source": [
        "items.append(555)  \n",
        "print(items)\n",
        "item=items.pop()  \n",
        "print(items)\n",
        "print(item)\n"
      ],
      "execution_count": null,
      "outputs": [
        {
          "output_type": "stream",
          "text": [
            "[-1, -2, 4, 6, 555]\n",
            "[-1, -2, 4, 6]\n",
            "555\n"
          ],
          "name": "stdout"
        }
      ]
    },
    {
      "cell_type": "markdown",
      "metadata": {
        "id": "u1PiuQHKfb8v"
      },
      "source": [
        "Ejercicio: use >>> help(items) y >>> dir(items) para listar la ayuda de el tipo de dato lista, note que items es tipo lista, puede comprobar el tipo de una variable con la función >>> type(items)"
      ]
    },
    {
      "cell_type": "markdown",
      "metadata": {
        "id": "rHMUi_Kofb8w"
      },
      "source": [
        "## Tipos de datos tuplas"
      ]
    },
    {
      "cell_type": "code",
      "metadata": {
        "id": "y41yTW7Ffb8w",
        "outputId": "79c1fdc9-73c8-41d5-b58a-dd0a9589ce86"
      },
      "source": [
        "mitupla = ('a', 1, \"hola\")\n",
        "print(type(mitupla))\n",
        "print(mitupla[2])"
      ],
      "execution_count": null,
      "outputs": [
        {
          "output_type": "stream",
          "text": [
            "<class 'tuple'>\n",
            "hola\n"
          ],
          "name": "stdout"
        }
      ]
    },
    {
      "cell_type": "markdown",
      "metadata": {
        "id": "tiJ_i4JVfb8w"
      },
      "source": [
        "Ejercicio: use >>> help(mitupla) y >>> dir(mitupla) para listar la ayuda de el tipo de dato tupla, note que mitupla es tipo tuple, puede comprobar el tipo de una variable con la función >>> type(mitupla)"
      ]
    },
    {
      "cell_type": "markdown",
      "metadata": {
        "id": "To63wqQ7fb8x"
      },
      "source": [
        "## Tipos de datos Diccionarios"
      ]
    },
    {
      "cell_type": "code",
      "metadata": {
        "id": "YCXM_Nmbfb8x",
        "outputId": "78ef6725-f40b-4bbb-f413-133a1dbc52e4"
      },
      "source": [
        "mydict = {\"altura\" : \"media\", \"habilidad\" : \"intermedia\", \"salario\" : 1000 } \n",
        "print (mydict )\n"
      ],
      "execution_count": null,
      "outputs": [
        {
          "output_type": "stream",
          "text": [
            "{'altura': 'media', 'habilidad': 'intermedia', 'salario': 1000}\n"
          ],
          "name": "stdout"
        }
      ]
    },
    {
      "cell_type": "code",
      "metadata": {
        "id": "o_q84B_efb8x",
        "outputId": "178e65a4-46f7-4743-fc69-d1c17d96b8ae"
      },
      "source": [
        "#busqueda por keys, las llaves son los indices de los diccionarios\n",
        "print (mydict[\"habilidad\"] )\n",
        "#dir (mydict)"
      ],
      "execution_count": null,
      "outputs": [
        {
          "output_type": "stream",
          "text": [
            "intermedia\n"
          ],
          "name": "stdout"
        }
      ]
    },
    {
      "cell_type": "code",
      "metadata": {
        "id": "8EpJfJDmfb8y",
        "outputId": "b9e4497a-ee7c-4fea-e185-8bf7a0fab304"
      },
      "source": [
        "if 'altura' in mydict:\n",
        "    print ('llave encontrada')\n",
        "    print (mydict[\"altura\"] )"
      ],
      "execution_count": null,
      "outputs": [
        {
          "output_type": "stream",
          "text": [
            "llave encontrada\n",
            "media\n"
          ],
          "name": "stdout"
        }
      ]
    },
    {
      "cell_type": "markdown",
      "metadata": {
        "id": "rhzjdzU-fb8y"
      },
      "source": [
        "Ejercicio. Que pasa si la llave no existe y se intenta indexar?"
      ]
    },
    {
      "cell_type": "code",
      "metadata": {
        "id": "pAryZG39fb8y"
      },
      "source": [
        ""
      ],
      "execution_count": null,
      "outputs": []
    }
  ]
}